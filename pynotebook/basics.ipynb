{
 "cells": [
  {
   "cell_type": "markdown",
   "metadata": {},
   "source": [
    "# Python lab\n",
    "\n",
    "\n",
    "\n",
    "## Other reading\n",
    "\n",
    "You may also find information on using the boto3 python library here:\n",
    "\n",
    "* [Using Boto3 - AWS's SDK for Python](https://igneoussystemshelp.zendesk.com/knowledge/articles/222814587)\n",
    "\n",
    "* [Boto3 - Retry operations](https://igneoussystemshelp.zendesk.com/knowledge/articles/223204708)\n",
    "\n",
    "\n",
    "## Import modules\n",
    "To begin with, execute the following code to import the modules needed for this exercise:"
   ]
  },
  {
   "cell_type": "code",
   "execution_count": null,
   "metadata": {},
   "outputs": [],
   "source": [
    "import os\n",
    "import getpass\n",
    "import os.path\n",
    "import boto3\n",
    "import botocore\n",
    "from boto3.s3.transfer import S3Transfer\n",
    "import tempfile\n",
    "import pprint\n",
    "\n",
    "import botocore.utils as boto_utils\n",
    "\n",
    "print \"imported modules\"\n"
   ]
  },
  {
   "cell_type": "markdown",
   "metadata": {},
   "source": [
    "## Instantiate variables\n",
    "You'll need to input a few things in order to get started.  \n",
    "'bucket': This is your target bucket, similar to a filesystem directory without the hierarchy.    \n",
    "\n",
    "**'access_key'**: The access key which identifies who you are to the server.  You can obtain this from your IT administrator.  This is similar to a ‘username’.\n",
    "\n",
    "**'secret_key'**: A secret key which authenticates you to the server.  You would also obtain this from your IT administrator.  This is similar to a ‘password’.  As such, you should refrain from storing the secret_key directly in your scripts, especially if they are to be placed in a shared location.  \n",
    "\n",
    "**'endpoint_url'**: This is the URL which hosts your Igneous Data Service.  If you are unsure what to put here, please consult with your IT Administrator.  Typically the endpoint URL would look something like this:  http://igneous.company.com:80 , or https://igneous.company.com:443.\n",
    "\n",
    "**Note: if you specify a URL which contains ‘https’ , you will need to change the ‘use_ssl’ parameter to ‘True’.**"
   ]
  },
  {
   "cell_type": "code",
   "execution_count": null,
   "metadata": {},
   "outputs": [],
   "source": [
    "#access_key='X3WGHCWSBQJOYZPJIUGK'\n",
    "#secret_key='cUrIvzglhmyrZP5N0mL24sIg6P/aX0Wk+/Yrkz/z'\n",
    "endpoint_url='http://some.host.or.ip:7070'\n",
    "use_ssl = False\n",
    "\n",
    "\n",
    "print \"variables set\"\n"
   ]
  },
  {
   "cell_type": "markdown",
   "metadata": {},
   "source": [
    "## Setup connection parameters\n",
    "\n",
    "You don't need to change anything here, but take notice of what we're doing. Basically, we're taking the access_key and secret-key , and creating a session object which we will later use to establish a connection."
   ]
  },
  {
   "cell_type": "code",
   "execution_count": null,
   "metadata": {},
   "outputs": [],
   "source": [
    "\n",
    "def boto3_session(access_key, secret_key):\n",
    "\n",
    "    return boto3.Session(\n",
    "        aws_access_key_id=access_key,\n",
    "        aws_secret_access_key=secret_key)\n",
    "\n",
    "print \"session function created\"\n"
   ]
  },
  {
   "cell_type": "markdown",
   "metadata": {},
   "source": [
    "Once we have the session object, Here's how to create a connection constructor.  Note that we're calling the 'boto3_session' function from within the boto3_s3_client function."
   ]
  },
  {
   "cell_type": "code",
   "execution_count": null,
   "metadata": {},
   "outputs": [],
   "source": [
    "def boto3_s3_client(aKey, sKey, endpoint):\n",
    "\n",
    "    # Create a session and then a client from it.\n",
    "    session = boto3_session(aKey, sKey)\n",
    "    client = session.client(\n",
    "        's3',\n",
    "        region_name='iggy-1',\n",
    "        use_ssl=False,\n",
    "        verify=False,\n",
    "        endpoint_url=endpoint,\n",
    "        config=boto3.session.Config(\n",
    "            signature_version='s3',\n",
    "            s3={\n",
    "                'addressing_style': 'path'\n",
    "            }\n",
    "        ))\n",
    "\n",
    "    # All finished here. We can start using the client as expected now\n",
    "    return client\n",
    "\n",
    "print \"client function created\""
   ]
  },
  {
   "cell_type": "markdown",
   "metadata": {},
   "source": [
    "Now you can actually call it..note that it won't 'do' anything yet.  But we'll print out the object so you can verify that it returned."
   ]
  },
  {
   "cell_type": "code",
   "execution_count": null,
   "metadata": {},
   "outputs": [],
   "source": [
    "\n",
    "client = boto3_s3_client(access_key, secret_key, endpoint_url)\n",
    "print client\n"
   ]
  },
  {
   "cell_type": "markdown",
   "metadata": {},
   "source": [
    "## Test connection & List buckets\n",
    "Note that merely creating and executing a connection constructor isn't enough to know if its working, you actually have to *use* it.  Therefore, to test it out, lets have it list buckets"
   ]
  },
  {
   "cell_type": "code",
   "execution_count": null,
   "metadata": {},
   "outputs": [],
   "source": [
    "def list_buckets(client):\n",
    "\n",
    "    # See the following URL for more details about this call:\n",
    "    # http://boto3.readthedocs.io/en/latest/reference/services/s3.html#S3.Client.list_buckets\n",
    "    lsb_resp = client.list_buckets()\n",
    "\n",
    "    for thisBucket in lsb_resp['Buckets']:\n",
    "        yield thisBucket['Name']\n",
    "print \"defined list_buckets function\"\n"
   ]
  },
  {
   "cell_type": "markdown",
   "metadata": {},
   "source": [
    "Now call it, and see what prints out:"
   ]
  },
  {
   "cell_type": "code",
   "execution_count": null,
   "metadata": {},
   "outputs": [],
   "source": [
    "\n",
    "bucket_list = list_buckets(client)\n",
    "\n",
    "for bucketEntry in bucket_list:\n",
    "    print bucketEntry\n"
   ]
  },
  {
   "cell_type": "markdown",
   "metadata": {},
   "source": [
    "## List objects\n",
    "\n",
    "Now that you know how to get a list of buckets, you can write a function to list the objects within one (or more) of them, provided your access/secret key has access.\n",
    "\n",
    "First, lets define the function:"
   ]
  },
  {
   "cell_type": "code",
   "execution_count": null,
   "metadata": {},
   "outputs": [],
   "source": [
    "\n",
    "\n",
    "def list_objects(client, bucket):\n",
    "    \"\"\"\n",
    "    Return a generator that iterates through the keys contained within the\n",
    "    specified bucket.\n",
    "    \"\"\"\n",
    "\n",
    "    # See the following URL for more details about this call:\n",
    "    # http://boto3.readthedocs.io/en/latest/reference/services/s3.html#S3.Client.list_objects\n",
    "    lsb_resp = client.list_objects(\n",
    "        Bucket=bucket)\n",
    "\n",
    "    for obj in lsb_resp['Contents']:\n",
    "        yield obj['Key']\n",
    "\n",
    "print \"list_objects function created\""
   ]
  },
  {
   "cell_type": "markdown",
   "metadata": {},
   "source": [
    "Now, call it.  You will first have to define the bucket you want to list though, and uncomment out the line in the block below.  Keep in mind that you probably don't want to choose a bucket that has a lot of objects in it, since the printout will take time and screen real estate."
   ]
  },
  {
   "cell_type": "code",
   "execution_count": null,
   "metadata": {},
   "outputs": [],
   "source": [
    "\n",
    "#uncomment following line and put proper bucket in\n",
    "#myBucket='mybucket'\n",
    "objList = list_objects(client, myBucket)\n",
    "\n",
    "for listKey in objList:\n",
    "    print listKey\n"
   ]
  },
  {
   "cell_type": "markdown",
   "metadata": {},
   "source": [
    "## Put your own key\n",
    "\n",
    "Now, objectStores don't have a concept of a 'directory' , but you can be clever and form the names of your objectKeys to mimic this. Basically, you can prefix all of your objectKeys with something like \"username/\" .\n",
    "\n",
    "Lets define a prefix now:"
   ]
  },
  {
   "cell_type": "code",
   "execution_count": null,
   "metadata": {},
   "outputs": [],
   "source": [
    "\n",
    "objPrefix = getpass.getuser() + '/'\n",
    "\n",
    "print \"Your prefix is : %s\" %(objPrefix)"
   ]
  },
  {
   "cell_type": "markdown",
   "metadata": {},
   "source": [
    "Now that you have a prefix, any keys that you put that you place will start that way..\n",
    "\n",
    "## Put an object\n",
    "\n",
    "In order to put an object, you probably want some content.  This can either be a file (more specifically, the contents of a file), or it can simply be some data.  Later on you can upload files from your laptop, but to get started quickly you can just upload a dummy file with some text data.\n",
    "\n",
    "First you'll set a variable to hold some text:"
   ]
  },
  {
   "cell_type": "code",
   "execution_count": null,
   "metadata": {},
   "outputs": [],
   "source": [
    "\n",
    "TEST_TEXT = ('Nintendo is an awesome place!  Switch and Breath of the Wild are the best things since and before sliced bread!')\n",
    "\n",
    "print TEST_TEXT"
   ]
  },
  {
   "cell_type": "markdown",
   "metadata": {},
   "source": [
    "Next, lets define a function which will do the actual work of uploading:"
   ]
  },
  {
   "cell_type": "code",
   "execution_count": null,
   "metadata": {},
   "outputs": [],
   "source": [
    "def put_object(client, bucket, objKey, TEST_TEXT):\n",
    "\n",
    "    # See the following URL for more details about this call:\n",
    "    # http://boto3.readthedocs.io/en/latest/reference/services/s3.html#S3.Client.put_object\n",
    "    put_resp = client.put_object(\n",
    "        Body=TEST_TEXT,\n",
    "        Bucket=bucket,\n",
    "        Key=objKey\n",
    "    )\n",
    "\n",
    "    return put_resp\n",
    "\n",
    "print \"put_object function defined\""
   ]
  },
  {
   "cell_type": "markdown",
   "metadata": {},
   "source": [
    "In order to run it, we'll call it and pass it some variables & objects that we got from before.  Note that you'll want to define the object key (aka: filename) that you want to upload as, and uncomment the appropriate line.  See how we put the prefix in front of it.  \n",
    "\n",
    "If it runs successfully, you should see a JSON printout of some metadata associated with the object & request."
   ]
  },
  {
   "cell_type": "code",
   "execution_count": null,
   "metadata": {},
   "outputs": [],
   "source": [
    "#uncomment following line and make up a filename\n",
    "#keyName = \"tempfile\"\n",
    "objKey = objPrefix + keyName\n",
    "put_object(client,myBucket,objKey,TEST_TEXT)\n"
   ]
  },
  {
   "cell_type": "markdown",
   "metadata": {},
   "source": [
    "## List objects with your prefix\n",
    "\n",
    "Ok great, you put your very own object.  Remember how, when you listed objects before, you saw everything that was in the bucket?  Well, if you want to only see *YOUR* stuff, you can filter just for objects that start with your prefix.\n",
    "\n",
    "Lets define a function to do that:"
   ]
  },
  {
   "cell_type": "code",
   "execution_count": null,
   "metadata": {},
   "outputs": [],
   "source": [
    "\n",
    "\n",
    "def list_my_objects(client, bucket,objPrefix):\n",
    "    \"\"\"\n",
    "    Return a generator that iterates through the keys contained within the\n",
    "    specified bucket, which start with a specific prefix.\n",
    "    \"\"\"\n",
    "\n",
    "    lsb_resp = client.list_objects(\n",
    "        Bucket=bucket,\n",
    "        Prefix=objPrefix) #notice this additional parameter\n",
    "\n",
    "    if not lsb_resp.has_key('Contents'):\n",
    "        return\n",
    "    for obj in lsb_resp['Contents']:\n",
    "        yield obj['Key']\n",
    "\n",
    "print \"list_my_objects function created\""
   ]
  },
  {
   "cell_type": "markdown",
   "metadata": {},
   "source": [
    "Now lets give it a whirl...you should only see what you put:"
   ]
  },
  {
   "cell_type": "code",
   "execution_count": null,
   "metadata": {},
   "outputs": [],
   "source": [
    "\n",
    "myObjList = list_my_objects(client, myBucket,objPrefix)\n",
    "\n",
    "for myObjKey in myObjList:\n",
    "    print myObjKey\n"
   ]
  },
  {
   "cell_type": "markdown",
   "metadata": {},
   "source": [
    "## Get object\n",
    "\n",
    "So you put an object, and  were able to list just your objects, congrats!  Next, lets define a function that will perform a 'get' on that object, and print the contents out to the screen.  \n",
    "\n",
    "As always, define the function first:"
   ]
  },
  {
   "cell_type": "code",
   "execution_count": null,
   "metadata": {},
   "outputs": [],
   "source": [
    "def get_object(client, bucket, objKey):\n",
    "\n",
    "    # See the following URL for more details about this call:\n",
    "    # http://boto3.readthedocs.io/en/latest/reference/services/s3.html#S3.Client.get_object\n",
    "    get_resp = client.get_object(\n",
    "        Bucket=bucket,\n",
    "        Key=objKey)\n",
    "\n",
    "    return get_resp['Body']\n",
    "\n",
    "print \"defined get_object function\""
   ]
  },
  {
   "cell_type": "markdown",
   "metadata": {},
   "source": [
    "Now call it, specifying the key name (that we defined when we did the put)."
   ]
  },
  {
   "cell_type": "code",
   "execution_count": null,
   "metadata": {},
   "outputs": [],
   "source": [
    "\n",
    "objContents = get_object(client, myBucket, objKey)\n",
    "print objContents.read()\n",
    "\n"
   ]
  },
  {
   "cell_type": "markdown",
   "metadata": {},
   "source": [
    "## Head object\n",
    "\n",
    "The `head_object` method allows you to get metadata, including extended metadata on an individual object basis.\n",
    "\n",
    "First, define the function:"
   ]
  },
  {
   "cell_type": "code",
   "execution_count": null,
   "metadata": {},
   "outputs": [],
   "source": [
    "\n",
    "def head_object(client, bucket,objKey):\n",
    "    try:\n",
    "        response = client.head_object(\n",
    "            Bucket=bucket,\n",
    "            Key=objKey)\n",
    "        return response\n",
    "\n",
    "    except botocore.exceptions.ClientError as e:\n",
    "        error_code = int(e.response['Error']['Code'])\n",
    "        #print error_code\n",
    "        return \"failed: %s\" %(error_code)\n",
    "\n",
    "print \"defined head_object function\"\n"
   ]
  },
  {
   "cell_type": "markdown",
   "metadata": {},
   "source": [
    "Next, lets actually run it:"
   ]
  },
  {
   "cell_type": "code",
   "execution_count": null,
   "metadata": {},
   "outputs": [],
   "source": [
    "\n",
    "objMeta = head_object(client, myBucket, objKey)\n",
    "pprint.pprint(objMeta)\n"
   ]
  },
  {
   "cell_type": "markdown",
   "metadata": {},
   "source": [
    "## Add metadata to an existing object\n",
    "\n",
    "One of the cool things about an objectStore is that you can add custom metadata to your objects, enabling you to tag for all sorts of reasons and use cases.  In reality, adding metadata to an object is nothing more than performing a PUT on an existing object, with a special parameter.  The function is identical whether you are putting a brand new object, or adding metadata to an existing one.\n",
    "\n",
    "Define a customized function:"
   ]
  },
  {
   "cell_type": "code",
   "execution_count": null,
   "metadata": {},
   "outputs": [],
   "source": [
    "def put_object_with_metadata(client, bucket, objKey,metaDict):\n",
    "\n",
    "    # See the following URL for more details about this call:\n",
    "    # http://boto3.readthedocs.io/en/latest/reference/services/s3.html#S3.Client.put_object\n",
    "    put_resp = client.put_object(\n",
    "        Body=TEST_TEXT,\n",
    "        Bucket=bucket,\n",
    "        Key=objKey,\n",
    "        Metadata = metaDict\n",
    "    )\n",
    "\n",
    "    # Return the object's version\n",
    "    return put_resp\n",
    "\n",
    "print \"put_object_with_metadata function defined\""
   ]
  },
  {
   "cell_type": "markdown",
   "metadata": {},
   "source": [
    "Perform the put, first defining some metadata.  Feel free to add or change as many fun tags as you like.."
   ]
  },
  {
   "cell_type": "code",
   "execution_count": null,
   "metadata": {},
   "outputs": [],
   "source": [
    "\n",
    "metaDict = {\n",
    "    \"username\" : getpass.getuser(),\n",
    "    \"job\" : \"superhero\",\n",
    "    \"location\" : \"marioworld\"\n",
    "}\n",
    "\n",
    "put_object_with_metadata(client,myBucket,objKey,metaDict)\n"
   ]
  },
  {
   "cell_type": "markdown",
   "metadata": {},
   "source": [
    "If you got no errors, do another HEAD on the object and see what we get:"
   ]
  },
  {
   "cell_type": "code",
   "execution_count": null,
   "metadata": {},
   "outputs": [],
   "source": [
    "objMeta = head_object(client, myBucket, objKey)\n",
    "pprint.pprint(objMeta)\n"
   ]
  },
  {
   "cell_type": "markdown",
   "metadata": {},
   "source": [
    "## Upload a file\n",
    "\n",
    "Putting dummy files is fun, but real files are better.  Try uploading some files from your Desktop (I'd recommend photo's...)\n",
    "\n",
    "First, create a function to upload a file, note that its slightly different than putting a file."
   ]
  },
  {
   "cell_type": "code",
   "execution_count": null,
   "metadata": {},
   "outputs": [],
   "source": [
    "def upload_file(client,bucket,objKey,fileName,metaDict):\n",
    "    transfer = S3Transfer(client)\n",
    "    transfer.upload_file(fileName, bucket, objKey,\n",
    "    extra_args={'Metadata': metaDict})\n",
    "\n",
    "print \"defined upload_file function\""
   ]
  },
  {
   "cell_type": "markdown",
   "metadata": {},
   "source": [
    "Now, lets identify a file to upload:"
   ]
  },
  {
   "cell_type": "code",
   "execution_count": null,
   "metadata": {},
   "outputs": [],
   "source": [
    "'''\n",
    "Whatever file you upload must live on your desktop for simplicity sake. Lets list out 10 files that live there..\n",
    "'''\n",
    "\n",
    "homedir = os.path.expanduser('~')\n",
    "desktop = os.path.join(homedir,'Desktop')\n",
    "print \"\\n\".join(os.listdir(desktop)[0:10])\n",
    "\n",
    "#uncomment the following line and put in the name of a file that exists on  your desktop\n",
    "#myFile = \"photo.jpg\"\n",
    "fileName = os.path.join(desktop,myFile)\n",
    "fileTest = os.path.isfile(fileName)\n",
    "print fileTest\n"
   ]
  },
  {
   "cell_type": "markdown",
   "metadata": {},
   "source": [
    "If that returned `True` , you are good to proceed.  If it returned `False` , make sure `myFile` is actually a filename which lives on your desktop, and be sure to include the file extension.\n",
    "\n",
    "Now, upload the file:"
   ]
  },
  {
   "cell_type": "code",
   "execution_count": null,
   "metadata": {},
   "outputs": [],
   "source": [
    "\n",
    "objKey = objPrefix + myFile\n",
    "upload_file(client,myBucket,objKey,fileName,metaDict)\n",
    "uploadMeta = head_object(client,myBucket,objKey)\n",
    "pprint.pprint(uploadMeta)"
   ]
  },
  {
   "cell_type": "markdown",
   "metadata": {},
   "source": [
    "## Relist to see everyone's work ..\n",
    "\n",
    "Lets see what your colleague's have been up to.."
   ]
  },
  {
   "cell_type": "code",
   "execution_count": null,
   "metadata": {},
   "outputs": [],
   "source": [
    "\n",
    "#uncomment following line and put proper bucket in\n",
    "#myBucket='mybucket'\n",
    "objList = list_objects(client, myBucket)\n",
    "\n",
    "for listKey in objList:\n",
    "    print listKey\n"
   ]
  },
  {
   "cell_type": "markdown",
   "metadata": {},
   "source": [
    "## Delete object\n",
    "\n",
    "now its time to cleanup after yourself, basically you want to delete the object you just created.\n",
    "\n",
    "First, define the function:"
   ]
  },
  {
   "cell_type": "code",
   "execution_count": null,
   "metadata": {},
   "outputs": [],
   "source": [
    "def delete_object(client, bucket, objKey):\n",
    "\n",
    "    # See the following URL for more details about this call:\n",
    "    # http://boto3.readthedocs.io/en/latest/reference/services/s3.html#S3.Client.delete_object\n",
    "    get_resp = client.delete_object(\n",
    "        Bucket=bucket,\n",
    "        Key=objKey)\n",
    "\n",
    "    return get_resp\n",
    "print \"defined delete_object function\""
   ]
  },
  {
   "cell_type": "markdown",
   "metadata": {},
   "source": [
    "Now, actually call it"
   ]
  },
  {
   "cell_type": "code",
   "execution_count": null,
   "metadata": {},
   "outputs": [],
   "source": [
    "\n",
    "delete_response = delete_object(client, myBucket, objKey)\n",
    "print delete_response"
   ]
  },
  {
   "cell_type": "markdown",
   "metadata": {},
   "source": [
    "## string it all together\n",
    "\n",
    "well, what if you want to run all of this, at once?\n",
    "\n",
    "If you were able to run each step piece-meal above without any errors, you should now be able to go to the top of your browser and :\n",
    "\n",
    "1.  Click the `Kernel` menu\n",
    "2.  Click `Restart and run all`"
   ]
  }
 ],
 "metadata": {},
 "nbformat": 4,
 "nbformat_minor": 1
}
