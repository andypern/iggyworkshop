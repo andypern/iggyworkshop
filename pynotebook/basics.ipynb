{
 "cells": [
  {
   "cell_type": "markdown",
   "metadata": {},
   "source": [
    "# Python lab\n",
    "\n",
    "\n",
    "\n",
    "## Other reading\n",
    "\n",
    "You may also find information on using the boto3 python library here:\n",
    "\n",
    "* [Using Boto3 - AWS's SDK for Python](https://igneoussystemshelp.zendesk.com/knowledge/articles/222814587)\n",
    "\n",
    "* [Boto3 - Retry operations](https://igneoussystemshelp.zendesk.com/knowledge/articles/223204708)\n",
    "\n",
    "\n",
    "## Import modules\n",
    "To begin with, execute the following code to import the modules needed for this exercise:"
   ]
  },
  {
   "cell_type": "code",
   "execution_count": 1,
   "metadata": {
    "collapsed": false
   },
   "outputs": [
    {
     "name": "stdout",
     "output_type": "stream",
     "text": [
      "imported modules\n"
     ]
    }
   ],
   "source": [
    "import os\n",
    "import getpass\n",
    "import os.path\n",
    "import boto3\n",
    "import botocore\n",
    "from boto3.s3.transfer import S3Transfer\n",
    "import tempfile\n",
    "\n",
    "import botocore.utils as boto_utils\n",
    "\n",
    "print \"imported modules\"\n"
   ]
  },
  {
   "cell_type": "markdown",
   "metadata": {},
   "source": [
    "## Instantiate variables\n",
    "You'll need to input a few things in order to get started.  \n",
    "'bucket': This is your target bucket, similar to a filesystem directory without the hierarchy. In the Igneous User Interface, buckets are referred to as containers.   \n",
    "\n",
    "**'access_key'**: The access key which identifies who you are to the server.  You can obtain this from your IT administrator.  This is similar to a ‘username’.\n",
    "\n",
    "**'secret_key'**: A secret key which authenticates you to the server.  You would also obtain this from your IT administrator.  This is similar to a ‘password’.  As such, you should refrain from storing the secret_key directly in your scripts, especially if they are to be placed in a shared location.  \n",
    "\n",
    "**'endpoint_url'**: This is the URL which hosts your Igneous Data Service.  If you are unsure what to put here, please consult with your IT Administrator.  Typically the endpoint URL would look something like this:  http://igneous.company.com:80 , or https://igneous.company.com:443.\n",
    "\n",
    "**Note: if you specify a URL which contains ‘https’ , you will need to change the ‘use_ssl’ parameter to ‘True’.**"
   ]
  },
  {
   "cell_type": "code",
   "execution_count": 2,
   "metadata": {
    "collapsed": false
   },
   "outputs": [
    {
     "name": "stdout",
     "output_type": "stream",
     "text": [
      "variables set\n"
     ]
    }
   ],
   "source": [
    "access_key='BES30GB4I2KNZN0TS2UY'\n",
    "secret_key='RxB7LXSbbsf5qSowl+ExDzWyHujFWrlDJ/Z3h3/5'\n",
    "endpoint_url='http://demo.iggy.bz:7070'\n",
    "use_ssl = False\n",
    "\n",
    "\n",
    "print \"variables set\"\n"
   ]
  },
  {
   "cell_type": "markdown",
   "metadata": {},
   "source": [
    "## Setup connection parameters\n",
    "\n",
    "You don't need to change anything here, but take notice of what we're doing. Basically, we're taking the access_key and secret-key , and creating a session object which we will later use to establish a connection."
   ]
  },
  {
   "cell_type": "code",
   "execution_count": 3,
   "metadata": {
    "collapsed": false
   },
   "outputs": [
    {
     "name": "stdout",
     "output_type": "stream",
     "text": [
      "session function created\n"
     ]
    }
   ],
   "source": [
    "\n",
    "def boto3_session(access_key, secret_key):\n",
    "\n",
    "    return boto3.Session(\n",
    "        aws_access_key_id=access_key,\n",
    "        aws_secret_access_key=secret_key)\n",
    "\n",
    "print \"session function created\"\n"
   ]
  },
  {
   "cell_type": "markdown",
   "metadata": {},
   "source": [
    "Once we have the session object, Here's how to create a connection constructor.  Note that we're calling the 'boto3_session' function from within the boto3_s3_client function."
   ]
  },
  {
   "cell_type": "code",
   "execution_count": 4,
   "metadata": {
    "collapsed": false
   },
   "outputs": [
    {
     "name": "stdout",
     "output_type": "stream",
     "text": [
      "client function created\n"
     ]
    }
   ],
   "source": [
    "def boto3_s3_client(aKey, sKey, endpoint):\n",
    "\n",
    "    # Create a session and then a client from it.\n",
    "    session = boto3_session(aKey, sKey)\n",
    "    client = session.client(\n",
    "        's3',\n",
    "        region_name='iggy-1',\n",
    "        use_ssl=False,\n",
    "        verify=False,\n",
    "        endpoint_url=endpoint,\n",
    "        config=boto3.session.Config(\n",
    "            signature_version='s3',\n",
    "            s3={\n",
    "                'addressing_style': 'path'\n",
    "            }\n",
    "        ))\n",
    "\n",
    "    # All finished here. We can start using the client as expected now\n",
    "    return client\n",
    "\n",
    "print \"client function created\""
   ]
  },
  {
   "cell_type": "markdown",
   "metadata": {},
   "source": [
    "Now you can actually call it..note that it won't 'do' anything yet.  But we'll print out the object so you can verify that it returned."
   ]
  },
  {
   "cell_type": "code",
   "execution_count": 5,
   "metadata": {
    "collapsed": false
   },
   "outputs": [
    {
     "name": "stdout",
     "output_type": "stream",
     "text": [
      "<botocore.client.S3 object at 0x105d01190>\n"
     ]
    }
   ],
   "source": [
    "\n",
    "client = boto3_s3_client(access_key, secret_key, endpoint_url)\n",
    "print client\n"
   ]
  },
  {
   "cell_type": "markdown",
   "metadata": {},
   "source": [
    "## Test connection & List buckets\n",
    "Note that merely creating and executing a connection constructor isn't enough to know if its working, you actually have to *use* it.  Therefore, to test it out, lets have it list buckets"
   ]
  },
  {
   "cell_type": "code",
   "execution_count": 6,
   "metadata": {
    "collapsed": false
   },
   "outputs": [
    {
     "name": "stdout",
     "output_type": "stream",
     "text": [
      "defined list_buckets function\n"
     ]
    }
   ],
   "source": [
    "def list_buckets(client):\n",
    "\n",
    "    # See the following URL for more details about this call:\n",
    "    # http://boto3.readthedocs.io/en/latest/reference/services/s3.html#S3.Client.list_buckets\n",
    "    lsb_resp = client.list_buckets()\n",
    "\n",
    "    for thisBucket in lsb_resp['Buckets']:\n",
    "        yield thisBucket['Name']\n",
    "print \"defined list_buckets function\"\n"
   ]
  },
  {
   "cell_type": "markdown",
   "metadata": {},
   "source": [
    "Now call it, and see what prints out:"
   ]
  },
  {
   "cell_type": "code",
   "execution_count": 7,
   "metadata": {
    "collapsed": false
   },
   "outputs": [
    {
     "name": "stdout",
     "output_type": "stream",
     "text": [
      "indexed\n",
      "nasa-picture-perday\n",
      "apfio\n",
      "apcontainer\n",
      "s3container\n",
      "noaa-public-data\n",
      "apbstor\n",
      "multimedia-commons\n",
      "nasa-curiosity-rover\n"
     ]
    }
   ],
   "source": [
    "\n",
    "bucket_list = list_buckets(client)\n",
    "\n",
    "for bucketEntry in bucket_list:\n",
    "\tprint bucketEntry\n"
   ]
  },
  {
   "cell_type": "markdown",
   "metadata": {},
   "source": [
    "## List objects\n",
    "\n",
    "Now that you know how to get a list of buckets, you can write a function to list the objects within one (or more) of them, provided your access/secret key has access.\n",
    "\n",
    "First, lets define the function:"
   ]
  },
  {
   "cell_type": "code",
   "execution_count": 8,
   "metadata": {
    "collapsed": false
   },
   "outputs": [
    {
     "name": "stdout",
     "output_type": "stream",
     "text": [
      "list_objects function created\n"
     ]
    }
   ],
   "source": [
    "\n",
    "\n",
    "def list_objects(client, bucket):\n",
    "    \"\"\"\n",
    "    Return a generator that iterates through the keys contained within the\n",
    "    specified bucket.\n",
    "    \"\"\"\n",
    "\n",
    "    # See the following URL for more details about this call:\n",
    "    # http://boto3.readthedocs.io/en/latest/reference/services/s3.html#S3.Client.list_objects\n",
    "    lsb_resp = client.list_objects(\n",
    "        Bucket=bucket)\n",
    "\n",
    "    for obj in lsb_resp['Contents']:\n",
    "        yield obj['Key']\n",
    "\n",
    "print \"list_objects function created\""
   ]
  },
  {
   "cell_type": "markdown",
   "metadata": {},
   "source": [
    "Now, call it.  You will first have to define the bucket you want to list though, and uncomment out the line in the block below.  Keep in mind that you probably don't want to choose a bucket that has a lot of objects in it, since the printout will take time and screen real estate."
   ]
  },
  {
   "cell_type": "code",
   "execution_count": 9,
   "metadata": {
    "collapsed": false
   },
   "outputs": [
    {
     "name": "stdout",
     "output_type": "stream",
     "text": [
      "/Users/andypern/Desktop/photo.jpg\n",
      "1M100k/0\n",
      "1M100k/1\n",
      "1M100k/10\n",
      "1M100k/100\n",
      "1M100k/1000\n",
      "1M100k/10000\n",
      "1M100k/10001\n",
      "1M100k/10002\n",
      "1M100k/10003\n",
      "1M100k/10004\n",
      "1M100k/10005\n",
      "1M100k/10006\n",
      "1M100k/10007\n",
      "1M100k/10008\n",
      "1M100k/10009\n",
      "1M100k/1001\n",
      "1M100k/10010\n",
      "1M100k/10011\n",
      "1M100k/10012\n",
      "1M100k/10013\n",
      "1M100k/10014\n",
      "1M100k/10015\n",
      "1M100k/10016\n",
      "1M100k/10017\n",
      "1M100k/10018\n",
      "1M100k/10019\n",
      "1M100k/1002\n",
      "1M100k/10020\n",
      "1M100k/10021\n",
      "1M100k/10022\n",
      "1M100k/10023\n",
      "1M100k/10024\n",
      "1M100k/10025\n",
      "1M100k/10026\n",
      "1M100k/10027\n",
      "1M100k/10028\n",
      "1M100k/10029\n",
      "1M100k/1003\n",
      "1M100k/10030\n",
      "1M100k/10031\n",
      "1M100k/10032\n",
      "1M100k/10033\n",
      "1M100k/10034\n",
      "1M100k/10035\n",
      "1M100k/10036\n",
      "1M100k/10037\n",
      "1M100k/10038\n",
      "1M100k/10039\n",
      "1M100k/1004\n",
      "1M100k/10040\n",
      "1M100k/10041\n",
      "1M100k/10042\n",
      "1M100k/10043\n",
      "1M100k/10044\n",
      "1M100k/10045\n",
      "1M100k/10046\n",
      "1M100k/10047\n",
      "1M100k/10048\n",
      "1M100k/10049\n",
      "1M100k/1005\n",
      "1M100k/10050\n",
      "1M100k/10051\n",
      "1M100k/10052\n",
      "1M100k/10053\n",
      "1M100k/10054\n",
      "1M100k/10055\n",
      "1M100k/10056\n",
      "1M100k/10057\n",
      "1M100k/10058\n",
      "1M100k/10059\n",
      "1M100k/1006\n",
      "1M100k/10060\n",
      "1M100k/10061\n",
      "1M100k/10062\n",
      "1M100k/10063\n",
      "1M100k/10064\n",
      "1M100k/10065\n",
      "1M100k/10066\n",
      "1M100k/10067\n",
      "1M100k/10068\n",
      "1M100k/10069\n",
      "1M100k/1007\n",
      "1M100k/10070\n",
      "1M100k/10071\n",
      "1M100k/10072\n",
      "1M100k/10073\n",
      "1M100k/10074\n",
      "1M100k/10075\n",
      "1M100k/10076\n",
      "1M100k/10077\n",
      "1M100k/10078\n",
      "1M100k/10079\n",
      "1M100k/1008\n",
      "1M100k/10080\n",
      "1M100k/10081\n",
      "1M100k/10082\n",
      "1M100k/10083\n",
      "1M100k/10084\n",
      "1M100k/10085\n",
      "1M100k/10086\n",
      "1M100k/10087\n",
      "1M100k/10088\n",
      "1M100k/10089\n",
      "1M100k/1009\n",
      "1M100k/10090\n",
      "1M100k/10091\n",
      "1M100k/10092\n",
      "1M100k/10093\n",
      "1M100k/10094\n",
      "1M100k/10095\n",
      "1M100k/10096\n",
      "1M100k/10097\n",
      "1M100k/10098\n",
      "1M100k/10099\n",
      "1M100k/101\n",
      "1M100k/1010\n",
      "1M100k/10100\n",
      "1M100k/10101\n",
      "1M100k/10102\n",
      "1M100k/10103\n",
      "1M100k/10104\n",
      "1M100k/10105\n",
      "1M100k/10106\n",
      "1M100k/10107\n",
      "1M100k/10108\n",
      "1M100k/10109\n",
      "1M100k/1011\n",
      "1M100k/10110\n",
      "1M100k/10111\n",
      "1M100k/10112\n",
      "1M100k/10113\n",
      "1M100k/10114\n",
      "1M100k/10115\n",
      "1M100k/10116\n",
      "1M100k/10117\n",
      "1M100k/10118\n",
      "1M100k/10119\n",
      "1M100k/1012\n",
      "1M100k/10120\n",
      "1M100k/10121\n",
      "1M100k/10122\n",
      "1M100k/10123\n",
      "1M100k/10124\n",
      "1M100k/10125\n",
      "1M100k/10126\n",
      "1M100k/10127\n",
      "1M100k/10128\n",
      "1M100k/10129\n",
      "1M100k/1013\n",
      "1M100k/10130\n",
      "1M100k/10131\n",
      "1M100k/10132\n",
      "1M100k/10133\n",
      "1M100k/10134\n",
      "1M100k/10135\n",
      "1M100k/10136\n",
      "1M100k/10137\n",
      "1M100k/10138\n",
      "1M100k/10139\n",
      "1M100k/1014\n",
      "1M100k/10140\n",
      "1M100k/10141\n",
      "1M100k/10142\n",
      "1M100k/10143\n",
      "1M100k/10144\n",
      "1M100k/10145\n",
      "1M100k/10146\n",
      "1M100k/10147\n",
      "1M100k/10148\n",
      "1M100k/10149\n",
      "1M100k/1015\n",
      "1M100k/10150\n",
      "1M100k/10151\n",
      "1M100k/10152\n",
      "1M100k/10153\n",
      "1M100k/10154\n",
      "1M100k/10155\n",
      "1M100k/10156\n",
      "1M100k/10157\n",
      "1M100k/10158\n",
      "1M100k/10159\n",
      "1M100k/1016\n",
      "1M100k/10160\n",
      "1M100k/10161\n",
      "1M100k/10162\n",
      "1M100k/10163\n",
      "1M100k/10164\n",
      "1M100k/10165\n",
      "1M100k/10166\n",
      "1M100k/10167\n",
      "1M100k/10168\n",
      "1M100k/10169\n",
      "1M100k/1017\n",
      "1M100k/10170\n",
      "1M100k/10171\n",
      "1M100k/10172\n",
      "1M100k/10173\n",
      "1M100k/10174\n",
      "1M100k/10175\n",
      "1M100k/10176\n",
      "1M100k/10177\n",
      "1M100k/10178\n",
      "1M100k/10179\n",
      "1M100k/1018\n",
      "1M100k/10180\n",
      "1M100k/10181\n",
      "1M100k/10182\n",
      "1M100k/10183\n",
      "1M100k/10184\n",
      "1M100k/10185\n",
      "1M100k/10186\n",
      "1M100k/10187\n",
      "1M100k/10188\n",
      "1M100k/10189\n",
      "1M100k/1019\n",
      "1M100k/10190\n",
      "1M100k/10191\n",
      "1M100k/10192\n",
      "1M100k/10193\n",
      "1M100k/10194\n",
      "1M100k/10195\n",
      "1M100k/10196\n",
      "1M100k/10197\n",
      "1M100k/10198\n",
      "1M100k/10199\n",
      "1M100k/102\n",
      "1M100k/1020\n",
      "1M100k/10200\n",
      "1M100k/10201\n",
      "1M100k/10202\n",
      "1M100k/10203\n",
      "1M100k/10204\n",
      "1M100k/10205\n",
      "1M100k/10206\n",
      "1M100k/10207\n",
      "1M100k/10208\n",
      "1M100k/10209\n",
      "1M100k/1021\n",
      "1M100k/10210\n",
      "1M100k/10211\n",
      "1M100k/10212\n",
      "1M100k/10213\n",
      "1M100k/10214\n",
      "1M100k/10215\n",
      "1M100k/10216\n",
      "1M100k/10217\n",
      "1M100k/10218\n",
      "1M100k/10219\n",
      "1M100k/1022\n",
      "1M100k/10220\n",
      "1M100k/10221\n",
      "1M100k/10222\n",
      "1M100k/10223\n",
      "1M100k/10224\n",
      "1M100k/10225\n",
      "1M100k/10226\n",
      "1M100k/10227\n",
      "1M100k/10228\n",
      "1M100k/10229\n",
      "1M100k/1023\n",
      "1M100k/10230\n",
      "1M100k/10231\n",
      "1M100k/10232\n",
      "1M100k/10233\n",
      "1M100k/10234\n",
      "1M100k/10235\n",
      "1M100k/10236\n",
      "1M100k/10237\n",
      "1M100k/10238\n",
      "1M100k/10239\n",
      "1M100k/1024\n",
      "1M100k/10240\n",
      "1M100k/10241\n",
      "1M100k/10242\n",
      "1M100k/10243\n",
      "1M100k/10244\n",
      "1M100k/10245\n",
      "1M100k/10246\n",
      "1M100k/10247\n",
      "1M100k/10248\n",
      "1M100k/10249\n",
      "1M100k/1025\n",
      "1M100k/10250\n",
      "1M100k/10251\n",
      "1M100k/10252\n",
      "1M100k/10253\n",
      "1M100k/10254\n",
      "1M100k/10255\n",
      "1M100k/10256\n",
      "1M100k/10257\n",
      "1M100k/10258\n",
      "1M100k/10259\n",
      "1M100k/1026\n",
      "1M100k/10260\n",
      "1M100k/10261\n",
      "1M100k/10262\n",
      "1M100k/10263\n",
      "1M100k/10264\n",
      "1M100k/10265\n",
      "1M100k/10266\n",
      "1M100k/10267\n",
      "1M100k/10268\n",
      "1M100k/10269\n",
      "1M100k/1027\n",
      "1M100k/10270\n",
      "1M100k/10271\n",
      "1M100k/10272\n",
      "1M100k/10273\n",
      "1M100k/10274\n",
      "1M100k/10275\n",
      "1M100k/10276\n",
      "1M100k/10277\n",
      "1M100k/10278\n",
      "1M100k/10279\n",
      "1M100k/1028\n",
      "1M100k/10280\n",
      "1M100k/10281\n",
      "1M100k/10282\n",
      "1M100k/10283\n",
      "1M100k/10284\n",
      "1M100k/10285\n",
      "1M100k/10286\n",
      "1M100k/10287\n",
      "1M100k/10288\n",
      "1M100k/10289\n",
      "1M100k/1029\n",
      "1M100k/10290\n",
      "1M100k/10291\n",
      "1M100k/10292\n",
      "1M100k/10293\n",
      "1M100k/10294\n",
      "1M100k/10295\n",
      "1M100k/10296\n",
      "1M100k/10297\n",
      "1M100k/10298\n",
      "1M100k/10299\n",
      "1M100k/103\n",
      "1M100k/1030\n",
      "1M100k/10300\n",
      "1M100k/10301\n",
      "1M100k/10302\n",
      "1M100k/10303\n",
      "1M100k/10304\n",
      "1M100k/10305\n",
      "1M100k/10306\n",
      "1M100k/10307\n",
      "1M100k/10308\n",
      "1M100k/10309\n",
      "1M100k/1031\n",
      "1M100k/10310\n",
      "1M100k/10311\n",
      "1M100k/10312\n",
      "1M100k/10313\n",
      "1M100k/10314\n",
      "1M100k/10315\n",
      "1M100k/10316\n",
      "1M100k/10317\n",
      "1M100k/10318\n",
      "1M100k/10319\n",
      "1M100k/1032\n",
      "1M100k/10320\n",
      "1M100k/10321\n",
      "1M100k/10322\n",
      "1M100k/10323\n",
      "1M100k/10324\n",
      "1M100k/10325\n",
      "1M100k/10326\n",
      "1M100k/10327\n",
      "1M100k/10328\n",
      "1M100k/10329\n",
      "1M100k/1033\n",
      "1M100k/10330\n",
      "1M100k/10331\n",
      "1M100k/10332\n",
      "1M100k/10333\n",
      "1M100k/10334\n",
      "1M100k/10335\n",
      "1M100k/10336\n",
      "1M100k/10337\n",
      "1M100k/10338\n",
      "1M100k/10339\n",
      "1M100k/1034\n",
      "1M100k/10340\n",
      "1M100k/10341\n",
      "1M100k/10342\n",
      "1M100k/10343\n",
      "1M100k/10344\n",
      "1M100k/10345\n",
      "1M100k/10346\n",
      "1M100k/10347\n",
      "1M100k/10348\n",
      "1M100k/10349\n",
      "1M100k/1035\n",
      "1M100k/10350\n",
      "1M100k/10351\n",
      "1M100k/10352\n",
      "1M100k/10353\n",
      "1M100k/10354\n",
      "1M100k/10355\n",
      "1M100k/10356\n",
      "1M100k/10357\n",
      "1M100k/10358\n",
      "1M100k/10359\n",
      "1M100k/1036\n",
      "1M100k/10360\n",
      "1M100k/10361\n",
      "1M100k/10362\n",
      "1M100k/10363\n",
      "1M100k/10364\n",
      "1M100k/10365\n",
      "1M100k/10366\n",
      "1M100k/10367\n",
      "1M100k/10368\n",
      "1M100k/10369\n",
      "1M100k/1037\n",
      "1M100k/10370\n",
      "1M100k/10371\n",
      "1M100k/10372\n",
      "1M100k/10373\n",
      "1M100k/10374\n",
      "1M100k/10375\n",
      "1M100k/10376\n",
      "1M100k/10377\n",
      "1M100k/10378\n",
      "1M100k/10379\n",
      "1M100k/1038\n",
      "1M100k/10380\n",
      "1M100k/10381\n",
      "1M100k/10382\n",
      "1M100k/10383\n",
      "1M100k/10384\n",
      "1M100k/10385\n",
      "1M100k/10386\n",
      "1M100k/10387\n",
      "1M100k/10388\n",
      "1M100k/10389\n",
      "1M100k/1039\n",
      "1M100k/10390\n",
      "1M100k/10391\n",
      "1M100k/10392\n",
      "1M100k/10393\n",
      "1M100k/10394\n",
      "1M100k/10395\n",
      "1M100k/10396\n",
      "1M100k/10397\n",
      "1M100k/10398\n",
      "1M100k/10399\n",
      "1M100k/104\n",
      "1M100k/1040\n",
      "1M100k/10400\n",
      "1M100k/10401\n",
      "1M100k/10402\n",
      "1M100k/10403\n",
      "1M100k/10404\n",
      "1M100k/10405\n",
      "1M100k/10406\n",
      "1M100k/10407\n",
      "1M100k/10408\n",
      "1M100k/10409\n",
      "1M100k/1041\n",
      "1M100k/10410\n",
      "1M100k/10411\n",
      "1M100k/10412\n",
      "1M100k/10413\n",
      "1M100k/10414\n",
      "1M100k/10415\n",
      "1M100k/10416\n",
      "1M100k/10417\n",
      "1M100k/10418\n",
      "1M100k/10419\n",
      "1M100k/1042\n",
      "1M100k/10420\n",
      "1M100k/10421\n",
      "1M100k/10422\n",
      "1M100k/10423\n",
      "1M100k/10424\n",
      "1M100k/10425\n",
      "1M100k/10426\n",
      "1M100k/10427\n",
      "1M100k/10428\n",
      "1M100k/10429\n",
      "1M100k/1043\n",
      "1M100k/10430\n",
      "1M100k/10431\n",
      "1M100k/10432\n",
      "1M100k/10433\n",
      "1M100k/10434\n",
      "1M100k/10435\n",
      "1M100k/10436\n",
      "1M100k/10437\n",
      "1M100k/10438\n",
      "1M100k/10439\n",
      "1M100k/1044\n",
      "1M100k/10440\n",
      "1M100k/10441\n",
      "1M100k/10442\n",
      "1M100k/10443\n",
      "1M100k/10444\n",
      "1M100k/10445\n",
      "1M100k/10446\n",
      "1M100k/10447\n",
      "1M100k/10448\n",
      "1M100k/10449\n",
      "1M100k/1045\n",
      "1M100k/10450\n",
      "1M100k/10451\n",
      "1M100k/10452\n",
      "1M100k/10453\n",
      "1M100k/10454\n",
      "1M100k/10455\n",
      "1M100k/10456\n",
      "1M100k/10457\n",
      "1M100k/10458\n",
      "1M100k/10459\n",
      "1M100k/1046\n",
      "1M100k/10460\n",
      "1M100k/10461\n",
      "1M100k/10462\n",
      "1M100k/10463\n",
      "1M100k/10464\n",
      "1M100k/10465\n",
      "1M100k/10466\n",
      "1M100k/10467\n",
      "1M100k/10468\n",
      "1M100k/10469\n",
      "1M100k/1047\n",
      "1M100k/10470\n",
      "1M100k/10471\n",
      "1M100k/10472\n",
      "1M100k/10473\n",
      "1M100k/10474\n",
      "1M100k/10475\n",
      "1M100k/10476\n",
      "1M100k/10477\n",
      "1M100k/10478\n",
      "1M100k/10479\n",
      "1M100k/1048\n",
      "1M100k/10480\n",
      "1M100k/10481\n",
      "1M100k/10482\n",
      "1M100k/10483\n",
      "1M100k/10484\n",
      "1M100k/10485\n",
      "1M100k/10486\n",
      "1M100k/10487\n",
      "1M100k/10488\n",
      "1M100k/10489\n",
      "1M100k/1049\n",
      "1M100k/10490\n",
      "1M100k/10491\n",
      "1M100k/10492\n",
      "1M100k/10493\n",
      "1M100k/10494\n",
      "1M100k/10495\n",
      "1M100k/10496\n",
      "1M100k/10497\n",
      "1M100k/10498\n",
      "1M100k/10499\n",
      "1M100k/105\n",
      "1M100k/1050\n",
      "1M100k/10500\n",
      "1M100k/10501\n",
      "1M100k/10502\n",
      "1M100k/10503\n",
      "1M100k/10504\n",
      "1M100k/10505\n",
      "1M100k/10506\n",
      "1M100k/10507\n",
      "1M100k/10508\n",
      "1M100k/10509\n",
      "1M100k/1051\n",
      "1M100k/10510\n",
      "1M100k/10511\n",
      "1M100k/10512\n",
      "1M100k/10513\n",
      "1M100k/10514\n",
      "1M100k/10515\n",
      "1M100k/10516\n",
      "1M100k/10517\n",
      "1M100k/10518\n",
      "1M100k/10519\n",
      "1M100k/1052\n",
      "1M100k/10520\n",
      "1M100k/10521\n",
      "1M100k/10522\n",
      "1M100k/10523\n",
      "1M100k/10524\n",
      "1M100k/10525\n",
      "1M100k/10526\n",
      "1M100k/10527\n",
      "1M100k/10528\n",
      "1M100k/10529\n",
      "1M100k/1053\n",
      "1M100k/10530\n",
      "1M100k/10531\n",
      "1M100k/10532\n",
      "1M100k/10533\n",
      "1M100k/10534\n",
      "1M100k/10535\n",
      "1M100k/10536\n",
      "1M100k/10537\n",
      "1M100k/10538\n",
      "1M100k/10539\n",
      "1M100k/1054\n",
      "1M100k/10540\n",
      "1M100k/10541\n",
      "1M100k/10542\n",
      "1M100k/10543\n",
      "1M100k/10544\n",
      "1M100k/10545\n",
      "1M100k/10546\n",
      "1M100k/10547\n",
      "1M100k/10548\n",
      "1M100k/10549\n",
      "1M100k/1055\n",
      "1M100k/10550\n",
      "1M100k/10551\n",
      "1M100k/10552\n",
      "1M100k/10553\n",
      "1M100k/10554\n",
      "1M100k/10555\n",
      "1M100k/10556\n",
      "1M100k/10557\n",
      "1M100k/10558\n",
      "1M100k/10559\n",
      "1M100k/1056\n",
      "1M100k/10560\n",
      "1M100k/10561\n",
      "1M100k/10562\n",
      "1M100k/10563\n",
      "1M100k/10564\n",
      "1M100k/10565\n",
      "1M100k/10566\n",
      "1M100k/10567\n",
      "1M100k/10568\n",
      "1M100k/10569\n",
      "1M100k/1057\n",
      "1M100k/10570\n",
      "1M100k/10571\n",
      "1M100k/10572\n",
      "1M100k/10573\n",
      "1M100k/10574\n",
      "1M100k/10575\n",
      "1M100k/10576\n",
      "1M100k/10577\n",
      "1M100k/10578\n",
      "1M100k/10579\n",
      "1M100k/1058\n",
      "1M100k/10580\n",
      "1M100k/10581\n",
      "1M100k/10582\n",
      "1M100k/10583\n",
      "1M100k/10584\n",
      "1M100k/10585\n",
      "1M100k/10586\n",
      "1M100k/10587\n",
      "1M100k/10588\n",
      "1M100k/10589\n",
      "1M100k/1059\n",
      "1M100k/10590\n",
      "1M100k/10591\n",
      "1M100k/10592\n",
      "1M100k/10593\n",
      "1M100k/10594\n",
      "1M100k/10595\n",
      "1M100k/10596\n",
      "1M100k/10597\n",
      "1M100k/10598\n",
      "1M100k/10599\n",
      "1M100k/106\n",
      "1M100k/1060\n",
      "1M100k/10600\n",
      "1M100k/10601\n",
      "1M100k/10602\n",
      "1M100k/10603\n",
      "1M100k/10604\n",
      "1M100k/10605\n",
      "1M100k/10606\n",
      "1M100k/10607\n",
      "1M100k/10608\n",
      "1M100k/10609\n",
      "1M100k/1061\n",
      "1M100k/10610\n",
      "1M100k/10611\n",
      "1M100k/10612\n",
      "1M100k/10613\n",
      "1M100k/10614\n",
      "1M100k/10615\n",
      "1M100k/10616\n",
      "1M100k/10617\n",
      "1M100k/10618\n",
      "1M100k/10619\n",
      "1M100k/1062\n",
      "1M100k/10620\n",
      "1M100k/10621\n",
      "1M100k/10622\n",
      "1M100k/10623\n",
      "1M100k/10624\n",
      "1M100k/10625\n",
      "1M100k/10626\n",
      "1M100k/10627\n",
      "1M100k/10628\n",
      "1M100k/10629\n",
      "1M100k/1063\n",
      "1M100k/10630\n",
      "1M100k/10631\n",
      "1M100k/10632\n",
      "1M100k/10633\n",
      "1M100k/10634\n",
      "1M100k/10635\n",
      "1M100k/10636\n",
      "1M100k/10637\n",
      "1M100k/10638\n",
      "1M100k/10639\n",
      "1M100k/1064\n",
      "1M100k/10640\n",
      "1M100k/10641\n",
      "1M100k/10642\n",
      "1M100k/10643\n",
      "1M100k/10644\n",
      "1M100k/10645\n",
      "1M100k/10646\n",
      "1M100k/10647\n",
      "1M100k/10648\n",
      "1M100k/10649\n",
      "1M100k/1065\n",
      "1M100k/10650\n",
      "1M100k/10651\n",
      "1M100k/10652\n",
      "1M100k/10653\n",
      "1M100k/10654\n",
      "1M100k/10655\n",
      "1M100k/10656\n",
      "1M100k/10657\n",
      "1M100k/10658\n",
      "1M100k/10659\n",
      "1M100k/1066\n",
      "1M100k/10660\n",
      "1M100k/10661\n",
      "1M100k/10662\n",
      "1M100k/10663\n",
      "1M100k/10664\n",
      "1M100k/10665\n",
      "1M100k/10666\n",
      "1M100k/10667\n",
      "1M100k/10668\n",
      "1M100k/10669\n",
      "1M100k/1067\n",
      "1M100k/10670\n",
      "1M100k/10671\n",
      "1M100k/10672\n",
      "1M100k/10673\n",
      "1M100k/10674\n",
      "1M100k/10675\n",
      "1M100k/10676\n",
      "1M100k/10677\n",
      "1M100k/10678\n",
      "1M100k/10679\n",
      "1M100k/1068\n",
      "1M100k/10680\n",
      "1M100k/10681\n",
      "1M100k/10682\n",
      "1M100k/10683\n",
      "1M100k/10684\n",
      "1M100k/10685\n",
      "1M100k/10686\n",
      "1M100k/10687\n",
      "1M100k/10688\n",
      "1M100k/10689\n",
      "1M100k/1069\n",
      "1M100k/10690\n",
      "1M100k/10691\n",
      "1M100k/10692\n",
      "1M100k/10693\n",
      "1M100k/10694\n",
      "1M100k/10695\n",
      "1M100k/10696\n",
      "1M100k/10697\n",
      "1M100k/10698\n",
      "1M100k/10699\n",
      "1M100k/107\n",
      "1M100k/1070\n",
      "1M100k/10700\n",
      "1M100k/10701\n",
      "1M100k/10702\n",
      "1M100k/10703\n",
      "1M100k/10704\n",
      "1M100k/10705\n",
      "1M100k/10706\n",
      "1M100k/10707\n",
      "1M100k/10708\n",
      "1M100k/10709\n",
      "1M100k/1071\n",
      "1M100k/10710\n",
      "1M100k/10711\n",
      "1M100k/10712\n",
      "1M100k/10713\n",
      "1M100k/10714\n",
      "1M100k/10715\n",
      "1M100k/10716\n",
      "1M100k/10717\n",
      "1M100k/10718\n",
      "1M100k/10719\n",
      "1M100k/1072\n",
      "1M100k/10720\n",
      "1M100k/10721\n",
      "1M100k/10722\n",
      "1M100k/10723\n",
      "1M100k/10724\n",
      "1M100k/10725\n",
      "1M100k/10726\n",
      "1M100k/10727\n",
      "1M100k/10728\n",
      "1M100k/10729\n",
      "1M100k/1073\n",
      "1M100k/10730\n",
      "1M100k/10731\n",
      "1M100k/10732\n",
      "1M100k/10733\n",
      "1M100k/10734\n",
      "1M100k/10735\n",
      "1M100k/10736\n",
      "1M100k/10737\n",
      "1M100k/10738\n",
      "1M100k/10739\n",
      "1M100k/1074\n",
      "1M100k/10740\n",
      "1M100k/10741\n",
      "1M100k/10742\n",
      "1M100k/10743\n",
      "1M100k/10744\n",
      "1M100k/10745\n",
      "1M100k/10746\n",
      "1M100k/10747\n",
      "1M100k/10748\n",
      "1M100k/10749\n",
      "1M100k/1075\n",
      "1M100k/10750\n",
      "1M100k/10751\n",
      "1M100k/10752\n",
      "1M100k/10753\n",
      "1M100k/10754\n",
      "1M100k/10755\n",
      "1M100k/10756\n",
      "1M100k/10757\n",
      "1M100k/10758\n",
      "1M100k/10759\n",
      "1M100k/1076\n",
      "1M100k/10760\n",
      "1M100k/10761\n",
      "1M100k/10762\n",
      "1M100k/10763\n",
      "1M100k/10764\n",
      "1M100k/10765\n",
      "1M100k/10766\n",
      "1M100k/10767\n",
      "1M100k/10768\n",
      "1M100k/10769\n",
      "1M100k/1077\n",
      "1M100k/10770\n",
      "1M100k/10771\n",
      "1M100k/10772\n",
      "1M100k/10773\n",
      "1M100k/10774\n",
      "1M100k/10775\n",
      "1M100k/10776\n",
      "1M100k/10777\n",
      "1M100k/10778\n",
      "1M100k/10779\n",
      "1M100k/1078\n",
      "1M100k/10780\n",
      "1M100k/10781\n",
      "1M100k/10782\n",
      "1M100k/10783\n",
      "1M100k/10784\n",
      "1M100k/10785\n",
      "1M100k/10786\n",
      "1M100k/10787\n",
      "1M100k/10788\n",
      "1M100k/10789\n",
      "1M100k/1079\n",
      "1M100k/10790\n",
      "1M100k/10791\n",
      "1M100k/10792\n",
      "1M100k/10793\n",
      "1M100k/10794\n",
      "1M100k/10795\n",
      "1M100k/10796\n",
      "1M100k/10797\n",
      "1M100k/10798\n",
      "1M100k/10799\n",
      "1M100k/108\n",
      "1M100k/1080\n",
      "1M100k/10800\n",
      "1M100k/10801\n",
      "1M100k/10802\n",
      "1M100k/10803\n",
      "1M100k/10804\n",
      "1M100k/10805\n",
      "1M100k/10806\n",
      "1M100k/10807\n",
      "1M100k/10808\n",
      "1M100k/10809\n",
      "1M100k/1081\n",
      "1M100k/10810\n",
      "1M100k/10811\n",
      "1M100k/10812\n",
      "1M100k/10813\n",
      "1M100k/10814\n",
      "1M100k/10815\n",
      "1M100k/10816\n",
      "1M100k/10817\n",
      "1M100k/10818\n",
      "1M100k/10819\n",
      "1M100k/1082\n",
      "1M100k/10820\n",
      "1M100k/10821\n",
      "1M100k/10822\n",
      "1M100k/10823\n",
      "1M100k/10824\n",
      "1M100k/10825\n",
      "1M100k/10826\n",
      "1M100k/10827\n",
      "1M100k/10828\n",
      "1M100k/10829\n",
      "1M100k/1083\n",
      "1M100k/10830\n",
      "1M100k/10831\n",
      "1M100k/10832\n",
      "1M100k/10833\n",
      "1M100k/10834\n",
      "1M100k/10835\n",
      "1M100k/10836\n",
      "1M100k/10837\n",
      "1M100k/10838\n",
      "1M100k/10839\n",
      "1M100k/1084\n",
      "1M100k/10840\n",
      "1M100k/10841\n",
      "1M100k/10842\n",
      "1M100k/10843\n",
      "1M100k/10844\n",
      "1M100k/10845\n",
      "1M100k/10846\n",
      "1M100k/10847\n",
      "1M100k/10848\n",
      "1M100k/10849\n",
      "1M100k/1085\n",
      "1M100k/10850\n",
      "1M100k/10851\n",
      "1M100k/10852\n",
      "1M100k/10853\n",
      "1M100k/10854\n",
      "1M100k/10855\n",
      "1M100k/10856\n",
      "1M100k/10857\n",
      "1M100k/10858\n",
      "1M100k/10859\n",
      "1M100k/1086\n",
      "1M100k/10860\n",
      "1M100k/10861\n",
      "1M100k/10862\n",
      "1M100k/10863\n",
      "1M100k/10864\n",
      "1M100k/10865\n",
      "1M100k/10866\n",
      "1M100k/10867\n",
      "1M100k/10868\n",
      "1M100k/10869\n",
      "1M100k/1087\n",
      "1M100k/10870\n",
      "1M100k/10871\n",
      "1M100k/10872\n",
      "1M100k/10873\n",
      "1M100k/10874\n",
      "1M100k/10875\n",
      "1M100k/10876\n",
      "1M100k/10877\n",
      "1M100k/10878\n",
      "1M100k/10879\n",
      "1M100k/1088\n",
      "1M100k/10880\n",
      "1M100k/10881\n",
      "1M100k/10882\n",
      "1M100k/10883\n",
      "1M100k/10884\n",
      "1M100k/10885\n",
      "1M100k/10886\n",
      "1M100k/10887\n",
      "1M100k/10888\n",
      "1M100k/10889\n",
      "1M100k/1089\n",
      "1M100k/10890\n",
      "1M100k/10891\n",
      "1M100k/10892\n",
      "1M100k/10893\n",
      "1M100k/10894\n",
      "1M100k/10895\n",
      "1M100k/10896\n"
     ]
    }
   ],
   "source": [
    "\n",
    "myBucket='apfio'\n",
    "objList = list_objects(client, myBucket)\n",
    "\n",
    "for listKey in objList:\n",
    "    print listKey\n"
   ]
  },
  {
   "cell_type": "markdown",
   "metadata": {},
   "source": [
    "## Put your own key\n",
    "\n",
    "Now, objectStores don't have a concept of a 'directory' , but you can be clever and form the names of your objectKeys to mimic this. Basically, you can prefix all of your objectKeys with something like \"username/\" .\n",
    "\n",
    "Lets define a prefix now:"
   ]
  },
  {
   "cell_type": "code",
   "execution_count": 10,
   "metadata": {
    "collapsed": false
   },
   "outputs": [
    {
     "name": "stdout",
     "output_type": "stream",
     "text": [
      "Your prefix is : andypern/\n"
     ]
    }
   ],
   "source": [
    "\n",
    "objPrefix = getpass.getuser() + '/'\n",
    "\n",
    "print \"Your prefix is : %s\" %(objPrefix)"
   ]
  },
  {
   "cell_type": "markdown",
   "metadata": {},
   "source": [
    "Now that you have a prefix, any keys that you put that you place will start that way..\n",
    "\n",
    "## Put an object\n",
    "\n",
    "In order to put an object, you probably want some content.  This can either be a file (more specifically, the contents of a file), or it can simply be some data.  Later on you can upload files from your laptop, but to get started quickly you can just upload a dummy file with some text data.\n",
    "\n",
    "First you'll set a variable to hold some text:"
   ]
  },
  {
   "cell_type": "code",
   "execution_count": 11,
   "metadata": {
    "collapsed": false
   },
   "outputs": [
    {
     "name": "stdout",
     "output_type": "stream",
     "text": [
      "Nintendo is an awesome place!  Switch is the best thing since and before sliced bread!\n"
     ]
    }
   ],
   "source": [
    "\n",
    "TEST_TEXT = ('Nintendo is an awesome place!  Switch is the best thing since and before sliced bread!')\n",
    "\n",
    "print TEST_TEXT"
   ]
  },
  {
   "cell_type": "markdown",
   "metadata": {},
   "source": [
    "Next, lets define a function which will do the actual work of uploading:"
   ]
  },
  {
   "cell_type": "code",
   "execution_count": 12,
   "metadata": {
    "collapsed": false
   },
   "outputs": [
    {
     "name": "stdout",
     "output_type": "stream",
     "text": [
      "put_object function defined\n"
     ]
    }
   ],
   "source": [
    "def put_object(client, bucket, objKey, TEST_TEXT):\n",
    "\n",
    "    # See the following URL for more details about this call:\n",
    "    # http://boto3.readthedocs.io/en/latest/reference/services/s3.html#S3.Client.put_object\n",
    "    put_resp = client.put_object(\n",
    "        Body=TEST_TEXT,\n",
    "        Bucket=bucket,\n",
    "        Key=objKey\n",
    "    )\n",
    "\n",
    "    # Return the object's version\n",
    "    return put_resp\n",
    "\n",
    "print \"put_object function defined\""
   ]
  },
  {
   "cell_type": "markdown",
   "metadata": {},
   "source": [
    "In order to run it, we'll call it and pass it some variables & objects that we got from before.  Note that you'll want to define the object key (aka: filename) that you want to upload as, and uncomment the appropriate line.  See how we put the prefix in front of it.  \n",
    "\n",
    "If it runs successfully, you should see a JSON printout of some metadata associated with the object & request."
   ]
  },
  {
   "cell_type": "code",
   "execution_count": 13,
   "metadata": {
    "collapsed": false
   },
   "outputs": [
    {
     "data": {
      "text/plain": [
       "{u'ETag': '\"54ce1c61b4dde1b3b03c5c865588d573\"',\n",
       " 'ResponseMetadata': {'HTTPHeaders': {'content-length': '0',\n",
       "   'content-type': 'text/plain; charset=utf-8',\n",
       "   'date': 'Thu, 09 Mar 2017 16:20:01 GMT',\n",
       "   'etag': '\"54ce1c61b4dde1b3b03c5c865588d573\"',\n",
       "   'x-amz-request-id': '0-11-bb134932c9fc6b56857fc2d2666ec10b',\n",
       "   'x-amz-version-id': '17-93b1c2b7ff71d8def3e9e9d5185b41c9'},\n",
       "  'HTTPStatusCode': 200,\n",
       "  'HostId': '',\n",
       "  'RequestId': '0-11-bb134932c9fc6b56857fc2d2666ec10b',\n",
       "  'RetryAttempts': 0},\n",
       " u'VersionId': '17-93b1c2b7ff71d8def3e9e9d5185b41c9'}"
      ]
     },
     "execution_count": 13,
     "metadata": {},
     "output_type": "execute_result"
    }
   ],
   "source": [
    "keyName = \"tempfile\"\n",
    "objKey = objPrefix + keyName\n",
    "put_object(client,myBucket,objKey,TEST_TEXT)\n"
   ]
  },
  {
   "cell_type": "markdown",
   "metadata": {},
   "source": [
    "## List objects with your prefix\n",
    "\n",
    "Ok great, you put your very own object.  Remember how, when you listed objects before, you saw everything that was in the bucket?  Well, if you want to only see *YOUR* stuff, you can filter just for objects that start with your prefix.\n",
    "\n",
    "Lets define a function to do that:"
   ]
  },
  {
   "cell_type": "code",
   "execution_count": 14,
   "metadata": {
    "collapsed": false
   },
   "outputs": [
    {
     "name": "stdout",
     "output_type": "stream",
     "text": [
      "list_my_objects function created\n"
     ]
    }
   ],
   "source": [
    "\n",
    "\n",
    "def list_my_objects(client, bucket,objPrefix):\n",
    "    \"\"\"\n",
    "    Return a generator that iterates through the keys contained within the\n",
    "    specified bucket, which start with a specific prefix.\n",
    "    \"\"\"\n",
    "\n",
    "    lsb_resp = client.list_objects(\n",
    "        Bucket=bucket,\n",
    "\t\tPrefix=objPrefix) #notice this additional parameter\n",
    "\n",
    "    for obj in lsb_resp['Contents']:\n",
    "        yield obj['Key']\n",
    "\n",
    "print \"list_my_objects function created\""
   ]
  },
  {
   "cell_type": "markdown",
   "metadata": {},
   "source": [
    "Now lets give it a whirl...you should only see what you put:"
   ]
  },
  {
   "cell_type": "code",
   "execution_count": 15,
   "metadata": {
    "collapsed": false
   },
   "outputs": [
    {
     "name": "stdout",
     "output_type": "stream",
     "text": [
      "andypern/photo.jpg\n",
      "andypern/tempfile\n"
     ]
    }
   ],
   "source": [
    "\n",
    "myObjList = list_my_objects(client, myBucket,objPrefix)\n",
    "\n",
    "for myObjKey in myObjList:\n",
    "    print myObjKey\n"
   ]
  },
  {
   "cell_type": "markdown",
   "metadata": {},
   "source": [
    "## Get object\n",
    "\n",
    "So you put an object, and  were able to list just your objects, congrats!  Next, lets define a function that will perform a 'get' on that object, and print the contents out to the screen.  \n",
    "\n",
    "As always, define the function first:"
   ]
  },
  {
   "cell_type": "code",
   "execution_count": 16,
   "metadata": {
    "collapsed": false
   },
   "outputs": [
    {
     "name": "stdout",
     "output_type": "stream",
     "text": [
      "defined get_object function\n"
     ]
    }
   ],
   "source": [
    "def get_object(client, bucket, objKey):\n",
    "\n",
    "    # See the following URL for more details about this call:\n",
    "    # http://boto3.readthedocs.io/en/latest/reference/services/s3.html#S3.Client.get_object\n",
    "    get_resp = client.get_object(\n",
    "        Bucket=bucket,\n",
    "        Key=objKey)\n",
    "\n",
    "    return get_resp['Body']\n",
    "\n",
    "print \"defined get_object function\""
   ]
  },
  {
   "cell_type": "markdown",
   "metadata": {},
   "source": [
    "Now call it, specifying the key name (that we defined when we did the put)."
   ]
  },
  {
   "cell_type": "code",
   "execution_count": 17,
   "metadata": {
    "collapsed": false
   },
   "outputs": [
    {
     "name": "stdout",
     "output_type": "stream",
     "text": [
      "Nintendo is an awesome place!  Switch is the best thing since and before sliced bread!\n"
     ]
    }
   ],
   "source": [
    "\n",
    "objContents = get_object(client, myBucket, objKey)\n",
    "print objContents.read()\n",
    "\n"
   ]
  },
  {
   "cell_type": "markdown",
   "metadata": {},
   "source": [
    "## Head object\n",
    "\n",
    "The `head_object` method allows you to get metadata, including extended metadata on an individual object basis.\n",
    "\n",
    "First, define the function:"
   ]
  },
  {
   "cell_type": "code",
   "execution_count": 18,
   "metadata": {
    "collapsed": false
   },
   "outputs": [
    {
     "name": "stdout",
     "output_type": "stream",
     "text": [
      "defined head_object function\n"
     ]
    }
   ],
   "source": [
    "\n",
    "def head_object(client, bucket,objKey):\n",
    "\ttry:\n",
    "\t\tresponse = client.head_object(\n",
    "\t\t\tBucket=bucket,\n",
    "\t\t\tKey=objKey)\n",
    "\t\treturn response\n",
    "\n",
    "\texcept botocore.exceptions.ClientError as e:\n",
    "\t\terror_code = int(e.response['Error']['Code'])\n",
    "\t\t#print error_code\n",
    "\t\treturn \"failed: %s\" %(error_code)\n",
    "\n",
    "print \"defined head_object function\"\n"
   ]
  },
  {
   "cell_type": "markdown",
   "metadata": {},
   "source": [
    "Next, lets actually run it:"
   ]
  },
  {
   "cell_type": "code",
   "execution_count": 19,
   "metadata": {
    "collapsed": false
   },
   "outputs": [
    {
     "name": "stdout",
     "output_type": "stream",
     "text": [
      "{u'ContentType': 'text/plain; charset=utf-8', 'ResponseMetadata': {'HTTPStatusCode': 200, 'RetryAttempts': 0, 'HostId': '', 'RequestId': '0-12-c9a9b0f089cb713a32d46b993d433df7', 'HTTPHeaders': {'content-length': '86', 'last-modified': 'Thu, 09 Mar 2017 16:20:01 GMT', 'etag': '\"54ce1c61b4dde1b3b03c5c865588d573\"', 'x-amz-request-id': '0-12-c9a9b0f089cb713a32d46b993d433df7', 'date': 'Thu, 09 Mar 2017 16:20:01 GMT', 'x-amz-version-id': '17-93b1c2b7ff71d8def3e9e9d5185b41c9', 'content-type': 'text/plain; charset=utf-8'}}, u'LastModified': datetime.datetime(2017, 3, 9, 16, 20, 1, tzinfo=tzutc()), u'ContentLength': 86, u'VersionId': '17-93b1c2b7ff71d8def3e9e9d5185b41c9', u'ETag': '\"54ce1c61b4dde1b3b03c5c865588d573\"', u'Metadata': {}}\n"
     ]
    }
   ],
   "source": [
    "\n",
    "objMeta = head_object(client, myBucket, objKey)\n",
    "print objMeta\n"
   ]
  },
  {
   "cell_type": "markdown",
   "metadata": {},
   "source": [
    "## Add metadata to an existing object\n",
    "\n",
    "One of the cool things about an objectStore is that you can add custom metadata to your objects, enabling you to tag for all sorts of reasons and use cases.  In reality, adding metadata to an object is nothing more than performing a PUT on an existing object, with a special parameter.  The function is identical whether you are putting a brand new object, or adding metadata to an existing one.\n",
    "\n",
    "Define a customized function:"
   ]
  },
  {
   "cell_type": "code",
   "execution_count": 20,
   "metadata": {
    "collapsed": false
   },
   "outputs": [
    {
     "name": "stdout",
     "output_type": "stream",
     "text": [
      "put_object_with_metadata function defined\n"
     ]
    }
   ],
   "source": [
    "def put_object_with_metadata(client, bucket, objKey,metaDict):\n",
    "\n",
    "    # See the following URL for more details about this call:\n",
    "    # http://boto3.readthedocs.io/en/latest/reference/services/s3.html#S3.Client.put_object\n",
    "    put_resp = client.put_object(\n",
    "        Body=TEST_TEXT,\n",
    "        Bucket=bucket,\n",
    "        Key=objKey,\n",
    "\t\tMetadata = metaDict\n",
    "    )\n",
    "\n",
    "    # Return the object's version\n",
    "    return put_resp\n",
    "\n",
    "print \"put_object_with_metadata function defined\""
   ]
  },
  {
   "cell_type": "markdown",
   "metadata": {},
   "source": [
    "Perform the put, first defining some metadata.  Feel free to add or change as many fun tags as you like.."
   ]
  },
  {
   "cell_type": "code",
   "execution_count": 21,
   "metadata": {
    "collapsed": false
   },
   "outputs": [
    {
     "data": {
      "text/plain": [
       "{u'ETag': '\"54ce1c61b4dde1b3b03c5c865588d573\"',\n",
       " 'ResponseMetadata': {'HTTPHeaders': {'content-length': '0',\n",
       "   'content-type': 'text/plain; charset=utf-8',\n",
       "   'date': 'Thu, 09 Mar 2017 16:20:01 GMT',\n",
       "   'etag': '\"54ce1c61b4dde1b3b03c5c865588d573\"',\n",
       "   'x-amz-request-id': '0-11-2884abefa4dbdea2d43fa93d50f8475d',\n",
       "   'x-amz-version-id': '18-a976815a8cfd5d2d09aff00eef6d7816'},\n",
       "  'HTTPStatusCode': 200,\n",
       "  'HostId': '',\n",
       "  'RequestId': '0-11-2884abefa4dbdea2d43fa93d50f8475d',\n",
       "  'RetryAttempts': 0},\n",
       " u'VersionId': '18-a976815a8cfd5d2d09aff00eef6d7816'}"
      ]
     },
     "execution_count": 21,
     "metadata": {},
     "output_type": "execute_result"
    }
   ],
   "source": [
    "\n",
    "metaDict = {\n",
    "\t\"username\" : getpass.getuser(),\n",
    "\t\"job\" : \"superhero\",\n",
    "\t\"location\" : \"marioworld\"\n",
    "}\n",
    "\n",
    "put_object_with_metadata(client,myBucket,objKey,metaDict)\n"
   ]
  },
  {
   "cell_type": "markdown",
   "metadata": {},
   "source": [
    "If you got no errors, do another HEAD on the object and see what we get:"
   ]
  },
  {
   "cell_type": "code",
   "execution_count": 22,
   "metadata": {
    "collapsed": false
   },
   "outputs": [
    {
     "name": "stdout",
     "output_type": "stream",
     "text": [
      "{u'ContentType': 'text/plain; charset=utf-8', 'ResponseMetadata': {'HTTPStatusCode': 200, 'RetryAttempts': 0, 'HostId': '', 'RequestId': '0-12-7d800e25c96e1a9eab85b1b435e2a932', 'HTTPHeaders': {'content-length': '86', 'x-amz-meta-username': 'andypern', 'x-amz-meta-location': 'marioworld', 'x-amz-meta-job': 'superhero', 'last-modified': 'Thu, 09 Mar 2017 16:20:01 GMT', 'etag': '\"54ce1c61b4dde1b3b03c5c865588d573\"', 'x-amz-request-id': '0-12-7d800e25c96e1a9eab85b1b435e2a932', 'date': 'Thu, 09 Mar 2017 16:20:01 GMT', 'x-amz-version-id': '18-a976815a8cfd5d2d09aff00eef6d7816', 'content-type': 'text/plain; charset=utf-8'}}, u'LastModified': datetime.datetime(2017, 3, 9, 16, 20, 1, tzinfo=tzutc()), u'ContentLength': 86, u'VersionId': '18-a976815a8cfd5d2d09aff00eef6d7816', u'ETag': '\"54ce1c61b4dde1b3b03c5c865588d573\"', u'Metadata': {'username': 'andypern', 'job': 'superhero', 'location': 'marioworld'}}\n"
     ]
    }
   ],
   "source": [
    "objMeta = head_object(client, myBucket, objKey)\n",
    "print objMeta\n"
   ]
  },
  {
   "cell_type": "markdown",
   "metadata": {},
   "source": [
    "## Upload a file\n",
    "\n",
    "Putting dummy files is fun, but real files are better.  Try uploading some files from your Desktop (I'd recommend photo's...)\n",
    "\n",
    "First, create a function to upload a file, note that its slightly different than putting a file."
   ]
  },
  {
   "cell_type": "code",
   "execution_count": 23,
   "metadata": {
    "collapsed": false
   },
   "outputs": [
    {
     "name": "stdout",
     "output_type": "stream",
     "text": [
      "defined upload_file function\n"
     ]
    }
   ],
   "source": [
    "def upload_file(client,bucket,objKey,fileName,metaDict):\n",
    "\ttransfer = S3Transfer(client)\n",
    "\ttransfer.upload_file(fileName, bucket, objKey,\n",
    "\textra_args={'Metadata': metaDict})\n",
    "\n",
    "print \"defined upload_file function\""
   ]
  },
  {
   "cell_type": "markdown",
   "metadata": {},
   "source": [
    "Now, lets identify a file to upload:"
   ]
  },
  {
   "cell_type": "code",
   "execution_count": 24,
   "metadata": {
    "collapsed": false
   },
   "outputs": [
    {
     "ename": "NameError",
     "evalue": "name 'myFile' is not defined",
     "output_type": "error",
     "traceback": [
      "\u001b[0;31m---------------------------------------------------------------------------\u001b[0m",
      "\u001b[0;31mNameError\u001b[0m                                 Traceback (most recent call last)",
      "\u001b[0;32m<ipython-input-24-5a5a9c9cc7d9>\u001b[0m in \u001b[0;36m<module>\u001b[0;34m()\u001b[0m\n\u001b[1;32m      7\u001b[0m \u001b[0;34m\u001b[0m\u001b[0m\n\u001b[1;32m      8\u001b[0m \u001b[0;31m#myFile = \"photo.jpg\"\u001b[0m\u001b[0;34m\u001b[0m\u001b[0;34m\u001b[0m\u001b[0m\n\u001b[0;32m----> 9\u001b[0;31m \u001b[0mfileName\u001b[0m \u001b[0;34m=\u001b[0m \u001b[0mos\u001b[0m\u001b[0;34m.\u001b[0m\u001b[0mpath\u001b[0m\u001b[0;34m.\u001b[0m\u001b[0mjoin\u001b[0m\u001b[0;34m(\u001b[0m\u001b[0mdesktop\u001b[0m\u001b[0;34m,\u001b[0m\u001b[0mmyFile\u001b[0m\u001b[0;34m)\u001b[0m\u001b[0;34m\u001b[0m\u001b[0m\n\u001b[0m\u001b[1;32m     10\u001b[0m \u001b[0mfileTest\u001b[0m \u001b[0;34m=\u001b[0m \u001b[0mos\u001b[0m\u001b[0;34m.\u001b[0m\u001b[0mpath\u001b[0m\u001b[0;34m.\u001b[0m\u001b[0misfile\u001b[0m\u001b[0;34m(\u001b[0m\u001b[0mfileName\u001b[0m\u001b[0;34m)\u001b[0m\u001b[0;34m\u001b[0m\u001b[0m\n\u001b[1;32m     11\u001b[0m \u001b[0;32mprint\u001b[0m \u001b[0mfileTest\u001b[0m\u001b[0;34m\u001b[0m\u001b[0m\n",
      "\u001b[0;31mNameError\u001b[0m: name 'myFile' is not defined"
     ]
    }
   ],
   "source": [
    "'''\n",
    "Whatever file you upload must live on your desktop for simplicity sake\n",
    "'''\n",
    "\n",
    "homedir = os.path.expanduser('~')\n",
    "desktop = os.path.join(homedir,'Desktop')\n",
    "\n",
    "#myFile = \"photo.jpg\"\n",
    "fileName = os.path.join(desktop,myFile)\n",
    "fileTest = os.path.isfile(fileName)\n",
    "print fileTest\n"
   ]
  },
  {
   "cell_type": "markdown",
   "metadata": {},
   "source": [
    "If that returned `True` , you are good to proceed.  If it returned `False` , make sure `myFile` is actually a filename which lives on your desktop, and be sure to include the file extension.\n",
    "\n",
    "Now, upload the file:"
   ]
  },
  {
   "cell_type": "code",
   "execution_count": null,
   "metadata": {
    "collapsed": false
   },
   "outputs": [],
   "source": [
    "\n",
    "objKey = objPrefix + myFile\n",
    "upload_file(client,myBucket,objKey,fileName,metaDict)\n",
    "uploadMeta = head_object(client,myBucket,objKey)\n",
    "print uploadMeta"
   ]
  },
  {
   "cell_type": "markdown",
   "metadata": {},
   "source": [
    "## Delete object\n",
    "\n",
    "now its time to cleanup after yourself, basically you want to delete the object you just created.\n",
    "\n",
    "First, define the function:"
   ]
  },
  {
   "cell_type": "code",
   "execution_count": null,
   "metadata": {
    "collapsed": false
   },
   "outputs": [],
   "source": [
    "def delete_object(client, bucket, objKey):\n",
    "\n",
    "    # See the following URL for more details about this call:\n",
    "    # http://boto3.readthedocs.io/en/latest/reference/services/s3.html#S3.Client.delete_object\n",
    "    get_resp = client.delete_object(\n",
    "        Bucket=bucket,\n",
    "        Key=objKey)\n",
    "\n",
    "    return get_resp\n",
    "print \"defined delete_object function\""
   ]
  },
  {
   "cell_type": "markdown",
   "metadata": {},
   "source": [
    "Now, actually call it"
   ]
  },
  {
   "cell_type": "code",
   "execution_count": null,
   "metadata": {
    "collapsed": true
   },
   "outputs": [],
   "source": [
    "\n",
    "delete_response = delete_object(client, myBucket, objKey)\n",
    "print delete_response"
   ]
  },
  {
   "cell_type": "markdown",
   "metadata": {},
   "source": [
    "## string it all together\n",
    "\n",
    "well, what if you want to run all of this, at once?\n",
    "\n",
    "If you were able to run each step piece-meal above without any errors, you should now be able to go to the top of your browser and :\n",
    "\n",
    "1.  Click the `Kernel` menu\n",
    "2.  Click `Restart and run all`"
   ]
  }
 ],
 "metadata": {
  "kernelspec": {
   "display_name": "Python 2",
   "language": "python",
   "name": "python2"
  },
  "language_info": {
   "codemirror_mode": {
    "name": "ipython",
    "version": 2
   },
   "file_extension": ".py",
   "mimetype": "text/x-python",
   "name": "python",
   "nbconvert_exporter": "python",
   "pygments_lexer": "ipython2",
   "version": "2.7.11"
  }
 },
 "nbformat": 4,
 "nbformat_minor": 1
}
